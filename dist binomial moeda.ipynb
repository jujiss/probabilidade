{
  "nbformat": 4,
  "nbformat_minor": 0,
  "metadata": {
    "colab": {
      "provenance": [],
      "authorship_tag": "ABX9TyPY2ZY/GyPoGM4BUWgBv2DV",
      "include_colab_link": true
    },
    "kernelspec": {
      "name": "python3",
      "display_name": "Python 3"
    },
    "language_info": {
      "name": "python"
    }
  },
  "cells": [
    {
      "cell_type": "markdown",
      "metadata": {
        "id": "view-in-github",
        "colab_type": "text"
      },
      "source": [
        "<a href=\"https://colab.research.google.com/github/jujiss/probabilidade/blob/main/dist%20binomial%20moeda.ipynb\" target=\"_parent\"><img src=\"https://colab.research.google.com/assets/colab-badge.svg\" alt=\"Open In Colab\"/></a>"
      ]
    },
    {
      "cell_type": "markdown",
      "source": [
        "A fórmula da distribuição binomial é dada por:\n",
        "\n",
        "## \\begin{align}\n",
        "        P(X = k) = \\frac{n!}{(n-k)!k!} \\cdot p^k \\cdot (1-p)^{n-k}\n",
        "    \\end{align}"
      ],
      "metadata": {
        "id": "tGS7lB5jyIGo"
      }
    },
    {
      "cell_type": "markdown",
      "source": [
        "Bibliotecas utilizadas"
      ],
      "metadata": {
        "id": "dvj1qiwHi9Pp"
      }
    },
    {
      "cell_type": "code",
      "execution_count": 34,
      "metadata": {
        "id": "MI7Xtjy6wmMj"
      },
      "outputs": [],
      "source": [
        "# math: biblioteca que permite o  uso de funções para operações matemáticas\n",
        "import math\n",
        "\n",
        "# numpy: biblioteca para tratar operações matemáticas de maneira vetorial\n",
        "import numpy as np\n",
        "\n",
        "# biblioteca para criar distribuições estatísticas\n",
        "# no caso, a distribuição binomial\n",
        "from scipy.stats import binom\n",
        "\n",
        "# random: biblioteca parar criar sequências pseudo-aleatórias de números\n",
        "# seed: dá a entrada para o gerador de números aleatórios\n",
        "from random import seed\n",
        "\n",
        "# matplotlib: biblioteca para criar simulações visuais de operações matemáticas\n",
        "from matplotlib import pyplot as plt\n",
        "\n",
        "seed(97)"
      ]
    },
    {
      "cell_type": "markdown",
      "source": [
        "Distribuição"
      ],
      "metadata": {
        "id": "cM8Ak5MKjBcq"
      }
    },
    {
      "cell_type": "code",
      "source": [
        "# quantidade de lançamentos da moeda\n",
        "n = 150\n",
        "# probabilidade de sair cara\n",
        "p = 0.6\n",
        "# quantidade de simulações a serem realizadas\n",
        "s = 1000\n",
        "\n",
        "# cria arranjo só com zeros, na forma de n\n",
        "pk = np.zeros(n)\n",
        "# retorna valores a partir de 0 até n\n",
        "vk = np.arange(0,n)\n",
        "\n",
        "# realiza simulações a partir do 0 até s dado (1000)\n",
        "for i in range(0,s):\n",
        "# quantidade inicial de sucessos obtidos\n",
        "  sucesso = 0\n",
        "# realiza lançamentos a partir de 0 até n dado (150)\n",
        "  for j in range(0,n):\n",
        "# faz uma escolha aleatória para r\n",
        "    r = np.random.uniform()\n",
        "# se o valor escolhido for menor ou igual a p, sucesso\n",
        "    if(r<=p):\n",
        "      sucesso = sucesso + 1 \n",
        "  pk[sucesso] = pk[sucesso] + 1 \n",
        "\n",
        "# normaliza a probabilidade \n",
        "pk=pk/sum(pk)\n",
        "\n",
        "print(\"frequência de caras= \", pk)"
      ],
      "metadata": {
        "colab": {
          "base_uri": "https://localhost:8080/"
        },
        "id": "5DBn_TSVzLDa",
        "outputId": "cd0e02ce-2fde-475a-f98f-fd97ab1fa50b"
      },
      "execution_count": 35,
      "outputs": [
        {
          "output_type": "stream",
          "name": "stdout",
          "text": [
            "frequência de caras=  [0.    0.    0.    0.    0.    0.    0.    0.    0.    0.    0.    0.\n",
            " 0.    0.    0.    0.    0.    0.    0.    0.    0.    0.    0.    0.\n",
            " 0.    0.    0.    0.    0.    0.    0.    0.    0.    0.    0.    0.\n",
            " 0.    0.    0.    0.    0.    0.    0.    0.    0.    0.    0.    0.\n",
            " 0.    0.    0.    0.    0.    0.    0.    0.    0.    0.    0.    0.\n",
            " 0.    0.    0.    0.    0.    0.    0.    0.    0.    0.    0.    0.\n",
            " 0.001 0.002 0.002 0.004 0.004 0.007 0.013 0.006 0.013 0.02  0.037 0.024\n",
            " 0.036 0.048 0.065 0.06  0.068 0.065 0.071 0.063 0.049 0.061 0.061 0.049\n",
            " 0.041 0.026 0.027 0.025 0.014 0.008 0.01  0.004 0.007 0.003 0.004 0.001\n",
            " 0.001 0.    0.    0.    0.    0.    0.    0.    0.    0.    0.    0.\n",
            " 0.    0.    0.    0.    0.    0.    0.    0.    0.    0.    0.    0.\n",
            " 0.    0.    0.    0.    0.    0.    0.    0.    0.    0.    0.    0.\n",
            " 0.    0.    0.    0.    0.    0.   ]\n"
          ]
        }
      ]
    },
    {
      "cell_type": "markdown",
      "source": [
        "Gráfico comparativo teoria e simulação"
      ],
      "metadata": {
        "id": "6fBHq_igjE4c"
      }
    },
    {
      "cell_type": "code",
      "source": [
        "# variáveis da curva teórica\n",
        "pkt = np.zeros(n+1)\n",
        "vkt = np.arange(0, n+1)\n",
        "\n",
        "\n",
        "# loop da distribuição binomial\n",
        "for k in range(0, n+1):\n",
        "  pkt[k] = (math.factorial(n)/(math.factorial(n-k)*math.factorial(k)))*(p**k)*(1-p)**(n-k)\n",
        "\n",
        "\n",
        "# criação da figura\n",
        "plt.figure(figsize=(8,6))\n",
        "# limitação do eixo x\n",
        "plt.xlim(0.8*np.min(vk[pk>0]), 1.2*np.max(vk[pk>0]))\n",
        "# especificações da barra \n",
        "plt.bar(vk, pk, color='orangered', label=\"simulação\")\n",
        "# especificações da curva teórica\n",
        "plt.plot(vkt, pkt, color='darkred', linestyle='dotted', label=\"teoria\")\n",
        "# nome do eixo x\n",
        "plt.xlabel(\"k\", fontsize=15)\n",
        "# nome do eixo y\n",
        "plt.ylabel(\"P(k)\", fontsize=15)\n",
        "# legenda das linhas\n",
        "plt.legend()\n",
        "\n",
        "\n",
        "plt.show(True)"
      ],
      "metadata": {
        "colab": {
          "base_uri": "https://localhost:8080/",
          "height": 393
        },
        "id": "-gHgnWZFe4Iv",
        "outputId": "59571682-a15a-4d20-bce8-ecad05b53460"
      },
      "execution_count": 36,
      "outputs": [
        {
          "output_type": "display_data",
          "data": {
            "text/plain": [
              "<Figure size 576x432 with 1 Axes>"
            ],
            "image/png": "[encoded data removed]"
          },
          "metadata": {
            "needs_background": "light"
          }
        }
      ]
    }
  ]
}