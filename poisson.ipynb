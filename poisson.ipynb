{
  "nbformat": 4,
  "nbformat_minor": 0,
  "metadata": {
    "colab": {
      "provenance": [],
      "authorship_tag": "ABX9TyMuySoBy5rDppjBPNEINzNt",
      "include_colab_link": true
    },
    "kernelspec": {
      "name": "python3",
      "display_name": "Python 3"
    },
    "language_info": {
      "name": "python"
    }
  },
  "cells": [
    {
      "cell_type": "markdown",
      "metadata": {
        "id": "view-in-github",
        "colab_type": "text"
      },
      "source": [
        "<a href=\"https://colab.research.google.com/github/jujiss/probabilidade/blob/main/poisson.ipynb\" target=\"_parent\"><img src=\"https://colab.research.google.com/assets/colab-badge.svg\" alt=\"Open In Colab\"/></a>"
      ]
    },
    {
      "cell_type": "markdown",
      "source": [
        "#Distribuição de Poisson\n",
        "\n",
        "Considere $\\lambda>0$ a taxa de uma variável aleatória.\n",
        "Assim, $$P(X=k) = \\frac{e^{-\\lambda}\\lambda^k}{k!}.$$\n",
        "\n",
        "E $$E[X]=V(x)=\\lambda.$$\n",
        "\n",
        "A distribuição de Poisson é consequência da lei dos eventos raros, pois a distribuição binomial com n (quantidade de \"experimentos\") indo a infinito e p (probabilidade de sucesso) indo a zero se aproxima de uma distribuição de Poisson:\n",
        "$$\\lim_{n \\to +\\infty, p \\to 0} \\frac{n!}{(n-k)!k!}p^k(1-p)^{n-k}=\\frac{e^{-\\lambda}\\lambda^k}{k!}$$"
      ],
      "metadata": {
        "id": "n3lLP6aE67ig"
      }
    },
    {
      "cell_type": "code",
      "execution_count": 117,
      "metadata": {
        "id": "ozDqJLMOpQnV"
      },
      "outputs": [],
      "source": [
        "# numpy: biblioteca para tratar operações matemáticas de maneira vetorial\n",
        "import numpy as np \n",
        "\n",
        "# matplotlib: biblioteca para criar simulações visuais de operações matemáticas\n",
        "import matplotlib.pyplot as plt"
      ]
    },
    {
      "cell_type": "code",
      "source": [
        "# taxa da variável aleatória (lambda)\n",
        "l = 5\n",
        "# número de pontos a serem retirados da distribuição\n",
        "n = 1200\n",
        "# cria amostras aleatórias de uma dist. de Poisson indo de l até n\n",
        "P = np.random.poisson(l,n)\n",
        "# retorna valores a partir de 0 até à maior amostra P\n",
        "k = np.arange(0,np.max(P))\n",
        "\n",
        "# count = conta o número de valores de cada amostra\n",
        "# bins = define o extremo da amostra utilizada\n",
        "# plt.hist = plotagem de um histograma (nesse caso, com as amostras de P)\n",
        "# density(True) = density = counts / (sum(counts) * np.diff(bins)), para normalizar a área abaixo do histograma\n",
        "# rwidth = tamanho das barras\n",
        "count, bins, ignored = plt.hist(P, bins=k, density=True, color='goldenrod', rwidth=0.7)\n",
        "\n",
        "\n",
        "print(\"P= \", P)\n",
        "print(\"k= \", k)\n",
        "\n",
        "\n",
        "# figura\n",
        "\n",
        "plt.plot(figsize=(8,6))\n",
        "plt.xlabel('k', fontsize=12)\n",
        "plt.ylabel('P(k)', fontsize=12)\n",
        "plt.show(True)"
      ],
      "metadata": {
        "colab": {
          "base_uri": "https://localhost:8080/",
          "height": 317
        },
        "id": "ZVgJrCfi9k5J",
        "outputId": "f7456370-87dd-4d91-97d9-71ab71e675bf"
      },
      "execution_count": 121,
      "outputs": [
        {
          "output_type": "stream",
          "name": "stdout",
          "text": [
            "P=  [3 7 9 ... 7 3 3]\n",
            "k=  [ 0  1  2  3  4  5  6  7  8  9 10 11 12 13]\n"
          ]
        },
        {
          "output_type": "display_data",
          "data": {
            "text/plain": [
              "<Figure size 432x288 with 1 Axes>"
            ],
            "image/png": "[encoded data removed]"
          },
          "metadata": {
            "needs_background": "light"
          }
        }
      ]
    },
    {
      "cell_type": "markdown",
      "source": [
        "##Lei dos eventos raros"
      ],
      "metadata": {
        "id": "__75hxYj_ozg"
      }
    },
    {
      "cell_type": "code",
      "source": [
        "from matplotlib import pyplot as plt\n",
        "\n",
        "# random: biblioteca parar criar sequências pseudo-aleatórias de números\n",
        "# seed: dá a entrada para o gerador de números aleatórios\n",
        "from random import seed\n",
        "\n",
        "# biblioteca para criar distribuições estatísticas\n",
        "# no caso, a distribuição binomial\n",
        "from scipy.stats import binom\n",
        "\n",
        "# para utilizar funções específicas, no caso, fatorial\n",
        "from scipy.special import factorial\n",
        "\n",
        "seed(90)"
      ],
      "metadata": {
        "id": "pJcbT2G1_njC"
      },
      "execution_count": 119,
      "outputs": []
    },
    {
      "cell_type": "code",
      "source": [
        "# probabilidade de sucesso\n",
        "ps = 0.05\n",
        "# quantidade de experimentos\n",
        "nx = 100\n",
        "# quantidade de simulações\n",
        "sim = 1000\n",
        "# cria arranjo só com zeros, na forma de nx\n",
        "Pk = np.zeros(nx)\n",
        "# retorna valores a partir de 0 até nx\n",
        "vk = np.arange(0,nx)\n",
        "\n",
        "\n",
        "# realiza as simulações\n",
        "for j in range(0,sim):\n",
        "# quantidade inicial de sucessos\n",
        "  s = 0\n",
        "\n",
        "# realiza os experimentos com valores aleatórios\n",
        "  for m in range(0, nx):\n",
        "    r = np.random.uniform()\n",
        "# se o valor utilizado for menor ou igual à ps, sucesso\n",
        "    if(r <= ps):\n",
        "      s = s + 1\n",
        "# adiciona o sucesso obtido ao arranjo Pk\n",
        "  Pk[s] = Pk[s] + 1\n",
        "\n",
        "# normaliza Pk\n",
        "Pk = Pk/sum(Pk)\n",
        "  \n",
        "\n",
        "# figura (simulação)\n",
        "\n",
        "plt.figure(figsize=(8,6))\n",
        "plt.xlim(np.min(vk[Pk>0]),np.max(vk[Pk>0]))\n",
        "plt.bar(vk, Pk, label='simulação', width=0.9, color='darkorange')\n",
        "\n",
        "\n",
        "# figura (teórica binomial)\n",
        "\n",
        "# cria arranjo só com zeros, na forma de nx+1\n",
        "Pt = np.zeros(nx+1)\n",
        "vt = np.arange(0, nx+1)\n",
        "\n",
        "# realiza experimentos utilizando da fórmula da dist. binomial (q=k, p=ps, nx=n)\n",
        "for q in range(0, nx+1):\n",
        "  Pt[q] = (factorial(nx)/(factorial(nx-q)*factorial(q)))*(ps**q)*(1-ps)**(nx-q)\n",
        "  \n",
        "plt.plot(vt, Pt, linestyle='dotted', color='black', label='prob. binomial (teoria)')\n",
        "\n",
        "\n",
        "# figura (teórica Poisson)\n",
        "\n",
        "# cria arranjo só com zeros, na forma de nx+1\n",
        "Pp = np.zeros(nx+1)\n",
        "# retorna valores a partir de 0 até nx+1\n",
        "vp = np.arange(0, nx+1)\n",
        "# lambda é dado agora pela multiplicação entre a prob. dada e a quantidade de experimentos realizados\n",
        "l = nx*ps\n",
        "\n",
        "# realiza experimentos utilizando da fórmula da dist. de Poisson (t=k)\n",
        "for t in range(0, nx+1):\n",
        "  Pp[t] = (np.exp(-l)*l**t)/factorial(t)\n",
        "\n",
        "plt.plot(vp, Pp, linestyle='dotted', color='darkred', label='prob Poisson (teoria)')\n",
        "plt.xlabel('k', fontsize=12)\n",
        "plt.ylabel('P(k)', fontsize=12)\n",
        "plt.legend()\n",
        "plt.show(True)"
      ],
      "metadata": {
        "colab": {
          "base_uri": "https://localhost:8080/",
          "height": 391
        },
        "id": "SmHIrs2tAlyX",
        "outputId": "c701cd08-3101-48ad-d416-7e3d8779d7b3"
      },
      "execution_count": 120,
      "outputs": [
        {
          "output_type": "display_data",
          "data": {
            "text/plain": [
              "<Figure size 576x432 with 1 Axes>"
            ],
            "image/png": "[encoded data removed]"
          },
          "metadata": {
            "needs_background": "light"
          }
        }
      ]
    }
  ]
}